{
 "cells": [
  {
   "cell_type": "code",
   "execution_count": 38,
   "metadata": {},
   "outputs": [
    {
     "name": "stdout",
     "output_type": "stream",
     "text": [
      "\n",
      "image 1/1 /Users/arturgaleev/Desktop/case_chemp/photo_2024-10-27 22.56.01.jpeg: 480x640 1 laptop, 1 mouse, 70.6ms\n",
      "Speed: 3.2ms preprocess, 70.6ms inference, 1.4ms postprocess per image at shape (1, 3, 480, 640)\n"
     ]
    },
    {
     "data": {
      "text/plain": [
       "True"
      ]
     },
     "execution_count": 38,
     "metadata": {},
     "output_type": "execute_result"
    }
   ],
   "source": [
    "from ultralytics import YOLO\n",
    "from PIL import Image\n",
    "import cv2\n",
    "\n",
    "# Load the model\n",
    "model = YOLO(\"yolo11n.pt\")\n",
    "\n",
    "results = model(\"test.jpeg\")\n",
    "\n",
    "image_cv = cv2.imread(\"test.jpeg\")\n",
    "\n",
    "names = results[0].names\n",
    "\n",
    "# Рисуем прямоугольники и добавляем текстовые метки\n",
    "for box in results[0].boxes:\n",
    "    x1, y1, x2, y2 = map(int, box.xyxy[0])\n",
    "    class_name = names[int(box.cls[0].item())]\n",
    "\n",
    "    # Рисуем прямоугольник белого цвета\n",
    "    cv2.rectangle(image_cv, (x1, y1), (x2, y2), (255, 255, 255), 2)\n",
    "\n",
    "    # Добавляем текст с именем класса и вероятностью\n",
    "    label = f\"{str(class_name)}\"\n",
    "    cv2.putText(image_cv, label, (x1, y1 - 10), cv2.FONT_HERSHEY_SIMPLEX, 2, (255, 255, 255), 2)\n",
    "\n",
    "# Сохраняем изображение без цветового фильтра\n",
    "cv2.imwrite(\"test_detected.jpg\", image_cv)"
   ]
  }
 ],
 "metadata": {
  "kernelspec": {
   "display_name": "venv",
   "language": "python",
   "name": "python3"
  },
  "language_info": {
   "codemirror_mode": {
    "name": "ipython",
    "version": 3
   },
   "file_extension": ".py",
   "mimetype": "text/x-python",
   "name": "python",
   "nbconvert_exporter": "python",
   "pygments_lexer": "ipython3",
   "version": "3.11.3"
  }
 },
 "nbformat": 4,
 "nbformat_minor": 2
}
